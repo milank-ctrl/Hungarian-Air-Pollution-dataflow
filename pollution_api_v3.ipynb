{
 "cells": [
  {
   "cell_type": "code",
   "execution_count": 0,
   "metadata": {
    "colab": {},
    "colab_type": "code",
    "id": "27W0lUBbTbSc"
   },
   "outputs": [],
   "source": [
    "import pandas as pd\n",
    "from datetime import datetime\n",
    "from datetime import timedelta\n",
    "import requests\n",
    "\n",
    "import os\n",
    "import psycopg2\n",
    "\n",
    "is_last = False"
   ]
  },
  {
   "cell_type": "code",
   "execution_count": 0,
   "metadata": {
    "colab": {},
    "colab_type": "code",
    "id": "GiDCugEzTbSo"
   },
   "outputs": [],
   "source": [
    "def log(is_last, msg):\n",
    "    now = datetime.now()\n",
    "    dt_string = now.strftime(\"%Y-%m-%d %H:%M:%S\")\n",
    "    \n",
    "    with open(\"pollution_log.txt\", \"a\") as f:\n",
    "        if is_last == False:           \n",
    "            f.write(\"\\n\" + msg + \" \" + \"log: \" + dt_string)\n",
    "        else:\n",
    "            f.write(\"\\n\" + msg + \" \" + \"log: \" + dt_string + \"\\n\" + \"-------------\" + \"\\n\")\n",
    "        "
   ]
  },
  {
   "cell_type": "code",
   "execution_count": 0,
   "metadata": {
    "colab": {},
    "colab_type": "code",
    "id": "penZDXstTbSu",
    "outputId": "16690d13-b9e6-40dd-bd99-bbf12acca1e7"
   },
   "outputs": [
    {
     "data": {
      "text/plain": [
       "'2019-07-25T21:00:00.000Z'"
      ]
     },
     "execution_count": 3,
     "metadata": {
      "tags": []
     },
     "output_type": "execute_result"
    }
   ],
   "source": [
    "try:\n",
    "    connection = psycopg2.connect(\"dbname=pollutionProject user=postgres password=*******\")\n",
    "    \n",
    "    cursor = connection.cursor()\n",
    "    \n",
    "    select_max_date = \"\"\"select max(local) from pollutiondata;\"\"\"\n",
    "     \n",
    "    cursor.execute(select_max_date)\n",
    "    \n",
    "    max_date = cursor.fetchall()\n",
    "    max_date_add = max_date[0][0] + timedelta(hours=1)\n",
    "    date_from = max_date_add.strftime(\"%Y-%m-%dT%H:%M:%S.000Z\")\n",
    "    \n",
    "    connection.commit()\n",
    "    \n",
    "    msg = \"Pollutiondata table successfully opened. Max date selected: \" + date_from\n",
    "    log(is_last, msg)\n",
    "    \n",
    "except (Exception, psycopg2.Error) as error:\n",
    "    \n",
    "    is_last = True\n",
    "    msg = \"Error while connecting to PostgreSQL: \" + error\n",
    "    log(is_last, msg)\n",
    "    \n",
    "finally:\n",
    "    #closing database connection.\n",
    "        if(connection):\n",
    "            cursor.close()\n",
    "            connection.close()\n",
    "            #print(\"PostgreSQL connection is closed\")\n",
    "date_from"
   ]
  },
  {
   "cell_type": "code",
   "execution_count": 0,
   "metadata": {
    "colab": {},
    "colab_type": "code",
    "id": "he9wgdeZTbS6",
    "outputId": "c33c9d4c-7f73-489b-aa88-395b6f5d34fa"
   },
   "outputs": [
    {
     "name": "stdout",
     "output_type": "stream",
     "text": [
      "https://api.openaq.org/v1/measurements/?country=HU&limit=10000&page=1&date_from=2019-07-25T21:00:00.000Z\n",
      "https://api.openaq.org/v1/measurements/?country=HU&limit=10000&page=2&date_from=2019-07-25T21:00:00.000Z\n"
     ]
    }
   ],
   "source": [
    "#API call\n",
    "\n",
    "country = 'HU'\n",
    "page = 1\n",
    "data_full = []\n",
    "api = True\n",
    "\n",
    "msg = \"Collecting data from the API.\"\n",
    "log(False, msg)\n",
    "\n",
    "\n",
    "while api == True:\n",
    "      \n",
    "    try:\n",
    "        url = 'https://api.openaq.org/v1/measurements/?country=' + country + '&limit=10000&page=' + str(page) + '&date_from=' + str(date_from)\n",
    "        r = requests.get(url)\n",
    "\n",
    "        log(False, url)\n",
    "        print(url)\n",
    "        data_json = r.json()\n",
    "\n",
    "        data = data_json[\"results\"]\n",
    "\n",
    "        if len(data) == 0:\n",
    "          break\n",
    "\n",
    "\n",
    "        data_full = data_full + data\n",
    "\n",
    "        page += 1\n",
    "\n",
    "    \n",
    "    except:\n",
    "        msg = \"Error during the request: \" + \"status code: \" + str(r.status_code)\n",
    "        log(True, msg)\n",
    "        #print(\"page: \" + str(page) + \" status code: \" + str(r.status_code))\n",
    "        \n",
    "msg = \"Collected: \" + str(len(data_full)) + \" rows\"\n",
    "log(False, msg)"
   ]
  },
  {
   "cell_type": "code",
   "execution_count": 0,
   "metadata": {
    "colab": {},
    "colab_type": "code",
    "id": "kG5KEAC6TbTD"
   },
   "outputs": [],
   "source": [
    "#Data cleaning\n",
    "\n",
    "#print(\"idő, long-lat szétválkasztása\")\n",
    "df = pd.DataFrame(data_full)\n",
    "df[[\"latitude\", \"longitude\"]] = df[\"coordinates\"].apply(pd.Series)\n",
    "df[[\"utc\", \"local\"]] = df[\"date\"].apply(pd.Series)\n",
    "new_data = df.drop([\"coordinates\", \"date\", \"utc\", \"city\", \"unit\"], axis=1)\n",
    "\n",
    "msg = \"Data cleaning.\"\n",
    "log(False, msg)\n",
    "\n",
    "#pivoting\n",
    "#print(\"pivoting\")\n",
    "new_data = new_data.pivot_table(index = [\"local\", \"country\", \"location\", \"latitude\", \"longitude\"], columns=\"parameter\")\n",
    "\n",
    "new_data = pd.DataFrame(new_data.to_records())\n",
    "\n",
    "new_data.columns = [hdr.replace(\"('value', \", \"\").replace(\")\", \"\").replace(\"'\", \"\") \\\n",
    "                     for hdr in new_data.columns]\n",
    "\n",
    "msg = \"Pivoting.\"\n",
    "log(False, msg)\n",
    "\n",
    "#addig upload date \n",
    "now = datetime.now()\n",
    "dt_string = now.strftime(\"%Y-%m-%d %H:%M:%S\")\n",
    "new_data[\"upload_date\"] = dt_string\n",
    "\n",
    "#save the new file with the name of the max date\n",
    "\n",
    "#print(\"mentés\")\n",
    "max_date = max(new_data.local).split(\"T\", 1)[0]\n",
    "file_name = \"HU_\" + str(max_date) + \".csv\"\n",
    "\n",
    "save_path = './pollution_data/'\n",
    "new_data.to_csv(save_path + file_name, index=False, sep=';')\n",
    "\n",
    "msg = \"Saving the new file as: \" + file_name\n",
    "log(False, msg)"
   ]
  },
  {
   "cell_type": "code",
   "execution_count": 0,
   "metadata": {
    "colab": {},
    "colab_type": "code",
    "id": "kBk_p37fTbTJ"
   },
   "outputs": [],
   "source": [
    "df_values = new_data[['local', 'country', 'location', 'latitude', 'longitude', 'co', 'no2', 'o3', 'pm10', 'pm25', 'so2', 'upload_date']]\n",
    "df_values_lst = [tuple(x) for x in df_values.values]\n",
    "df_insert = tuple(df_values_lst)\n",
    "\n",
    "msg = \"Tranforming the data into proper format for inserting.\"\n",
    "\n",
    "try:\n",
    "    connection = psycopg2.connect(\"dbname=pollutionProject user=postgres password=M4jom1993\")\n",
    "    \n",
    "    cursor = connection.cursor()\n",
    "    \n",
    "    insert = \"\"\"insert into pollutiondata (Local, Country, Location, Latitude, Longitude, Co, No2, O3, Pm10, Pm25, So2, upload_date)\n",
    "    values (%s, %s, %s, %s, %s, %s, %s, %s, %s, %s, %s, %s);\"\"\"\n",
    "    \n",
    "    cursor.executemany(insert, df_insert)\n",
    "          \n",
    "    connection.commit()\n",
    "    \n",
    "    msg = \"Data inserted successfully into the database!\"\n",
    "    log(False, msg)\n",
    "    #print(\"Data inserted successfully! Yeah!\")\n",
    "    \n",
    "except (Exception, psycopg2.Error) as error :\n",
    "    #print (\"Error while connecting to PostgreSQL\", error)\n",
    "    msg = \"Error while connecting to PostgreSQL. Error: \" + error\n",
    "    log(True, msg)\n",
    "finally:\n",
    "    #closing database connection.\n",
    "        if(connection):\n",
    "            cursor.close()\n",
    "            connection.close()\n",
    "            msg = \"Database has been updated. It's time to close!\"\n",
    "            log(True, msg)\n",
    "            #print(\"PostgreSQL connection is closed\")"
   ]
  },
  {
   "cell_type": "code",
   "execution_count": 0,
   "metadata": {
    "colab": {},
    "colab_type": "code",
    "id": "7mAWx0AXTbTO"
   },
   "outputs": [],
   "source": []
  }
 ],
 "metadata": {
  "colab": {
   "name": "pollution_api_v3.ipynb",
   "provenance": [],
   "version": "0.3.2"
  },
  "kernelspec": {
   "display_name": "Python 3",
   "language": "python",
   "name": "python3"
  },
  "language_info": {
   "codemirror_mode": {
    "name": "ipython",
    "version": 3
   },
   "file_extension": ".py",
   "mimetype": "text/x-python",
   "name": "python",
   "nbconvert_exporter": "python",
   "pygments_lexer": "ipython3",
   "version": "3.7.1"
  }
 },
 "nbformat": 4,
 "nbformat_minor": 1
}
